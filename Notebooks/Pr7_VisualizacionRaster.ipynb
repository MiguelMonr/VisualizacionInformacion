{
  "cells": [
    {
      "cell_type": "markdown",
      "source": [
        "## Práctica 7. Visualización de datos geoespaciales - Raster\n",
        "\n",
        "Parte de esta práctica está basada en ejercicios del libro [https://www.bookdown.org/mcwimberly/gdswr-book/](https://www.bookdown.org/mcwimberly/gdswr-book/).\n",
        "\n",
        "Se implementarán visualizaciones sobre datos capturados por distintos satélites y estaciones meteorológicas de Estados Unidos.\n",
        "\n",
        "\n",
        "\n",
        "## (I) Variables continuas\n",
        "\n",
        "Vamos empezar con visualizaciones de variables como la temperatura en la superficie terrestre, que, en principio, tienen un rango continuo de valores.\n",
        "\n",
        "\n",
        "\n",
        "#### 1. Importar datos\n",
        "\n",
        "La función `raster()` permite leer un archivo de imagen (en nuestro caso .tif) y crear un objeto \"SpatRaster\".\n",
        "\n",
        "\n",
        "\n",
        "1. Descargue el archivo `MOD11A2_2017-07-12.LST_Day_1km.tif` de la carpeta de datasets a su directorio de trabajo, léalo y asígnelo al objeto lst."
      ],
      "metadata": {
        "id": "ERk4fg1WmKbb"
      }
    },
    {
      "cell_type": "code",
      "source": [
        "library(sf)\n",
        "library(terra)\n",
        "library(ggplot2)\n",
        "\n",
        "lst <- rast(\"MOD11A2_2017-07-12.LST_Day_1km.tif\")"
      ],
      "metadata": {
        "id": "kgOUWd22nQOT"
      },
      "execution_count": null,
      "outputs": []
    },
    {
      "cell_type": "markdown",
      "source": [
        "---\n",
        "\n",
        "**PREGUNTA 1** ¿Qué clase de objeto es lst?\n",
        "¿Cuáles son las dimensiones y la resolución de este objeto? ¿Qué sistema de coordenadas utiliza?\n",
        "(Ayuda: imprima el objeto)\n",
        "\n",
        "---\n",
        "\n",
        "---\n",
        "\n",
        "**PREGUNTA 2** ¿Cuántas celdas tiene este objeto? Ayuda: Es un objeto rectangular.\n",
        "Compruébelo invocando las funciones `ncell(), nrow(), ncol()` y compare los resultados con lo que obtuvo al imprimir el objeto\n",
        "\n",
        "---\n"
      ],
      "metadata": {
        "id": "MJeC8vP2pGGv"
      }
    },
    {
      "cell_type": "markdown",
      "source": [
        "\n",
        "#### 2. Manipular datos\n",
        "\n",
        "Un objeto SpatRaster tiene capas y cada capa tiene nombre. En nuestro caso, tiene una sola capa, las temperaturas leídas por el satélite, y el nombre de esa capa es el del archivo.  Conviene cambiar el nombre a algo más apropiado:"
      ],
      "metadata": {
        "id": "SdBb7x-UqcwT"
      }
    },
    {
      "cell_type": "code",
      "source": [
        "names(lst)<-c(\"temperatura\")"
      ],
      "metadata": {
        "id": "yt8QzBCnzL_t"
      },
      "execution_count": null,
      "outputs": []
    },
    {
      "cell_type": "markdown",
      "source": [
        "\n",
        "Se pueden hacer operaciones aritméticas y de sumarización con los valores (píxeles) del objeto.  Por otra parte, los datos faltantes en este archivo están registrados como cero. Para poder hacer algunas operaciones aritméticas sin sesgo, es necesario transformar esos ceros en \"NA\".  El siguiente segmento muestra cómo hacer eso y además crea un nuevo objeto en el que la temperatura esté en grados celsius:"
      ],
      "metadata": {
        "id": "-Rcs8pE_zQdI"
      }
    },
    {
      "cell_type": "code",
      "source": [
        "lst <- ifel(lst == 0, NA, lst)\n",
        "lst_c <- lst * 0.02 - 273.15"
      ],
      "metadata": {
        "id": "kFenx59UqdU0"
      },
      "execution_count": null,
      "outputs": []
    },
    {
      "cell_type": "markdown",
      "source": [
        "Con la función `global(objeto, fun=\"sd\",na.rm=T)` se pueden obtener síntesis estadísticas del objeto; en el ejemplo, se calculó la desviación estándar.\n",
        "\n",
        "\n",
        "---\n",
        "**PREGUNTA 3.** Calcule la media,  desviación estándar, máximo y mínimo de las temperaturas del objeto.\n",
        "---\n",
        "\n",
        "\n",
        "#### 3. Visualización de datos raster\n",
        "\n",
        "ggplot necesita un dataframe para poder desplegar gráficos, por lo que no podemos utilizar directamente los objetos SpatRaster. Podemos transformarlos en un dataframe con un renglón por celda y columnas para las coordenadas x y y, así como una para cada atributo asociado a cada celda,\n",
        "\n",
        "Sin embargo, conviene resaltar que esta es una forma muy ineficiente de almacenar los datos raster, pues en general, hay muchísimas celdas contiguas idénticas.\n",
        "\n",
        "La siguiente función permite convertir un objeto SpatRaster a un dataframe. El primer argumento es el objeto; el segundo argumento es opcional y si está presente, permite reducir la resolución  del raster antes de la conversión, lo que ayuda a reducir drásticamente el tamaño del dataframe y acelera el procesamiento."
      ],
      "metadata": {
        "id": "Bo2hBzbcruTs"
      }
    },
    {
      "cell_type": "code",
      "source": [
        "rasterdf <- function(x, aggregate = 1) {\n",
        "  resampleFactor <- aggregate\n",
        "  inputRaster <- x\n",
        "  inCols <- ncol(inputRaster)\n",
        "  inRows <- nrow(inputRaster)\n",
        "  # Compute numbers of columns and rows in the resampled raster\n",
        "  resampledRaster <- rast(ncol=(inCols / resampleFactor),\n",
        "                          nrow=(inRows / resampleFactor),\n",
        "                          crs = crs(inputRaster))\n",
        "  # Match to the extent of the original raster\n",
        "  ext(resampledRaster) <- ext(inputRaster)\n",
        "  # Resample data on the new raster\n",
        "  y <- resample(inputRaster,resampledRaster,method='near')\n",
        "  # Extract cell coordinates into a data frame\n",
        "  coords <- xyFromCell(y, seq_len(ncell(y)))\n",
        "  # Extract layer names\n",
        "  dat <- stack(values(y, dataframe = TRUE))\n",
        "  # Add names - 'value' for data, 'variable' for different\n",
        "  # layer names in a multilayer raster\n",
        "  names(dat) <- c('value', 'variable')\n",
        "  dat <- cbind(coords, dat)\n",
        "  dat\n",
        "}"
      ],
      "metadata": {
        "id": "ZsZrLBzcrujv"
      },
      "execution_count": null,
      "outputs": []
    },
    {
      "cell_type": "markdown",
      "source": [
        "\n",
        "---\n",
        "**PREGUNTA 4**  Con la función anterior,  a partir del objeto `lst_c`, genere un data frame con una agregación de 1 y a otro dataframe con una agregacion de 3.  \n",
        "Compare los estadísticos de los dos dataframes invocando la función `summary()` ¿Qué diferencias encuentra?\n",
        "---\n",
        "\n",
        "Con la función `crop()` podemos recortar las celdas en el dataset raster para que cubran, por ejemplo, un área geográfica en particular.  En el siguiente ejemplo, se toman los datos dentro de un rectángulo (acotado por las latitudes y longitudes) que abarca el estado de Georgia, Estados Unidos."
      ],
      "metadata": {
        "id": "6LCKwxA_r7_M"
      }
    },
    {
      "cell_type": "code",
      "source": [
        "# Crea objeto SpatExtent con la extensión geográfica\n",
        "# que cubre Georgia\n",
        "clipext <- ext(-86, -80.5, 30, 35.5)\n",
        "class(clipext)\n",
        "\n",
        "# Corta las celdas correspondientes a esa extensión geográfica\n",
        "lst_clip <- crop(lst_c, clipext)\n",
        "# ... y crea el dataframe correspondiente\n",
        "lst_clip_df <- rasterdf(lst_clip)"
      ],
      "metadata": {
        "id": "yFiBIGnttdjl"
      },
      "execution_count": null,
      "outputs": []
    },
    {
      "cell_type": "markdown",
      "source": [
        "---\n",
        "**PREGUNTA 5** ¿Cuántos renglones y cuántas columnas tenía el dataframe original y cuántos tiene el generado?\n",
        "---\n",
        "Ahora podemos visualizar los datos raster con la función `geom_raster`. La función `coord_sf` como está invocada, elimina espacios extra y las orillas del mapa\n",
        "\n"
      ],
      "metadata": {
        "id": "hj_zCt_kus6c"
      }
    },
    {
      "cell_type": "code",
      "source": [
        "ggplot(data = lst_clip_df) +\n",
        "  geom_raster(aes(x = x,\n",
        "                  y = y,\n",
        "                  fill = value)) +\n",
        "  scale_fill_gradient(name = \"Grados C\",\n",
        "                      low = \"lightyellow\",\n",
        "                      high = \"red\") +\n",
        "  coord_sf(expand = FALSE) +\n",
        "  labs(title = \"LST-Temperatura ajustada (Terra Day)\",\n",
        "       x = \"longitud\",\n",
        "       y = \"latitud\") +\n",
        "  theme(legend.position = \"bottom\")"
      ],
      "metadata": {
        "id": "RfigOvPevVzU"
      },
      "execution_count": null,
      "outputs": []
    },
    {
      "cell_type": "markdown",
      "source": [
        "---\n",
        "**PREGUNTA 6.** Muestre la gráfica resultante\n",
        "\n",
        "---\n",
        "\n",
        "Por supuesto, nos sería de gran ayuda acompañar a la visualización anterior con un mapa base que le pueda dar contexto y más sentido a la información. Afortunadamente, podemos agregar capas de datos vectoriales a nuestra visualización.  \n",
        "\n",
        "Los archivos `GA_SHP.*` proveen los polígonos de los condados del Estado de Georgia. Descárguelos, léalos (recuerde, debe utilizar la función `st-read()`) y asigne el resultado a un objeto sf.\n",
        "\n",
        "\n",
        "\n",
        "---\n",
        "\n",
        "**PREGUNTA 7.** Despliegue el raster de temperaturas anterior junto con el mapa de los condados de Georgia. Para que sólo se muestre el contorno de los condados, invoque a la función que crea la capa del Estado y sus condados, con el argumento 'fill=NA'.\n",
        "Muestre la gráfica resultante\n",
        "\n",
        "---\n",
        "\n",
        "\n",
        "\n",
        "## (II) Variables discretas\n",
        "\n",
        "En los datasets raster las variables de interés también pueden estar codificadas como variables discretas. Por ejemplo, en vez de codificar valores (casi) continuos para temperatura, se podrían codificar una cantidad acotada de rangos de temperatura.\n",
        "\n",
        "En esta sección trabajaremos con información de la base de datos NLCD (National Land Cover Database) de Estados Unidos, la cual toma información de imágenes satelitales y codifica las características de la superficie terrestre con valores discretos, por ejemplo, Agua=11, Bosque Perenne = 42, Cultivos = 82.\n",
        "\n",
        "En particular, trabajaremos con una pequeña sección que corresponde al Condado Walton, en Georgia.\n",
        "\n",
        "\n",
        "\n",
        "#### 1. Importar datos\n",
        "\n",
        "Lea el archivo `NLCD_2019_Land_Conver_Walton.tiff` y cree un SpatRaster llamado `nlcd19`.\n",
        "\n",
        "---\n",
        "\n",
        "**PREGUNTA 8.** ¿Cuántos renglones, cuántas columnas y qué resolución tiene este dataset?\n",
        "\n",
        "---\n",
        "\n",
        "Ahora convierta el objeto en un dataframe con la función `rasterdf` y visualice el dataframe.\n",
        "\n",
        "---\n",
        "\n",
        "**PREGUNTA 9.** Muestre la gráfica obtenida\n",
        "\n",
        "---\n",
        "\n",
        "Como puede observar, este mapa es imposible de interpretar. Los valores en el objeto no son magnitudes sino datos discretos codificados.  Vamos a obtener los códigos en el dataset y vamos a crear un arreglo con los nombres apropiados para cada categoría:"
      ],
      "metadata": {
        "id": "QydixM5QvhFM"
      }
    },
    {
      "cell_type": "code",
      "source": [
        "CodigosLC <- unique(nlcd19)[, 1]\n",
        "\n",
        "NombresLC <-c(\n",
        "  \"Agua\",\n",
        "  \"AreaDesarrolladaAbierta\",\n",
        "  \"AreaDesarrolladaBaja\",\n",
        "  \"AreaDesarrolladaMedia\",\n",
        "  \"AreaDesarrolladaAlta\",\n",
        "  \"AreaEstéril\",\n",
        "  \"BosqueCaducifolio\",\n",
        "  \"BosquePerenne\",\n",
        "  \"BosqueMixto\",\n",
        "  \"MatorralArbustos\",\n",
        "  \"Hierba\",\n",
        "  \"PastoHeno\",\n",
        "  \"Cultivos\",\n",
        "  \"Humedales\",\n",
        "  \"VegetacionAcuaticaEmergente\"\n",
        ")"
      ],
      "metadata": {
        "id": "js-WwIXDv0l-"
      },
      "execution_count": null,
      "outputs": []
    },
    {
      "cell_type": "markdown",
      "source": [
        "En los archivos tiff generados por NLCD, se incluye una tabla con los colores \"oficiales\" de NLCD. Se pueden extraer con la función `coltab()`. En el siguiente código, se extrae la tabla en un dataframe y se usa la función `rgb()` para convertir las escalas de rojo, verde y azul, en un valor hexadecimal."
      ],
      "metadata": {
        "id": "hbsC1gR60Vtv"
      }
    },
    {
      "cell_type": "code",
      "source": [
        "nlcdcols <- data.frame(coltab(nlcd19))\n",
        "nlcdcols <- nlcdcols[CodigosLC + 1,]\n",
        "ColoresLC <- rgb(red = nlcdcols$red,\n",
        "                green = nlcdcols$green,\n",
        "                blue = nlcdcols$blue,\n",
        "                names = as.character(CodigosLC),\n",
        "                maxColorValue = 255)\n",
        "ColoresLC"
      ],
      "metadata": {
        "id": "8mRBIPD90WuQ"
      },
      "execution_count": null,
      "outputs": []
    },
    {
      "cell_type": "markdown",
      "source": [
        "---\n",
        "\n",
        "**PREGUNTA 10.** ¿Qué valor hexadecimal se asignó a las superficies con código 11, 31 y 82?\n",
        "\n",
        "---\n",
        "\n",
        "Ahora podemos desplegar el mapa. Observe que debemos indicar en la estética de `geom_raster` que los valores son categóricos.  La función `scale_fill_manual()` nos permite asignar la paleta de colores que acabamos de crear."
      ],
      "metadata": {
        "id": "UFfm4qS5wB3T"
      }
    },
    {
      "cell_type": "code",
      "source": [
        "ggplot(data = nlcd19_df) +\n",
        "  geom_raster(aes(x = x,\n",
        "                  y = y,\n",
        "                  fill = as.character(value))) +\n",
        "  scale_fill_manual(name = \"Superficie\",\n",
        "                    values = ColoresLC,\n",
        "                    labels = NombresLC,\n",
        "                    na.translate = FALSE) +\n",
        "  coord_sf(expand = FALSE) +\n",
        "  theme_void()\n"
      ],
      "metadata": {
        "id": "pDMUcbIIwVmC"
      },
      "execution_count": null,
      "outputs": []
    },
    {
      "cell_type": "markdown",
      "source": [
        "---\n",
        "\n",
        "**PREGUNTA 11** Muestre la gráfica resultante\n",
        "\n",
        "---\n",
        "\n",
        "Un problema con estas visualizaciones es que no tenemos el mapa base que muestre que, efectivamente, estos datos corresponden al condado de Walton. Este condado se encuentra en el Estado de Georgia y en la sección anterior obtuvimos los polígonos de Georgia, por lo que en principio, deberíamos poder graficar nuestros datos sobre el mapa de Georgia.  \n",
        "\n",
        "---\n",
        "\n",
        "**PREGUNTA 12.** Inténtelo. Muestre el código y el mapa resultante\n",
        "\n",
        "---\n",
        "\n",
        "Seguramente no es lo que esperaba. El problema es que el mapa y los datos raster están utilizando dos sistemas de coordenadas diferentes.  Para utilizar el mismo CRS, se utiliza la función `st_transform()`:\n",
        "\n",
        "```R\n",
        "gacounty <- st_transform(ga_sf, crs(nlcd19))\n",
        "```\n",
        "\n",
        "---\n",
        "\n",
        "**PREGUNTA 13.** Despliegue nuevamente el mapa, pero esta vez utilizando gacounty. Muestre el resultado obtenido.\n",
        "¿Los datos cubren totalmente el condado?\n",
        "\n",
        "---\n",
        "\n",
        "Del dataframe con los polígonos, podemos seleccionar únicamente el condado de Walton:"
      ],
      "metadata": {
        "id": "IoUIg7aNx59F"
      }
    },
    {
      "cell_type": "code",
      "source": [
        "walton <-gacounty[gacounty$NAME10==\"Walton\",]"
      ],
      "metadata": {
        "id": "DV_KVKfTyKnL"
      },
      "execution_count": null,
      "outputs": []
    },
    {
      "cell_type": "markdown",
      "source": [
        "---\n",
        "**PREGUNTA 14** Despliegue nuevamente el mapa, pero esta vez utilizando walton.\n",
        "Para resaltar el contorno del condado, utilice un color negro y un tamaño de línea de 3.\n",
        "\n",
        "Muestre el resultado obtenido.\n",
        "\n",
        "---\n",
        "\n",
        "Además, se puede hacer un acercamiento definiendo los límites de un rectángulo en la función `coord_sf()`:"
      ],
      "metadata": {
        "id": "JPrTQgqEyajV"
      }
    },
    {
      "cell_type": "code",
      "source": [
        "coord_sf(expand = FALSE,\n",
        "           xlim = c(1144000, 1115000),\n",
        "           ylim = c(1220000, 1310000))"
      ],
      "metadata": {
        "id": "LKodOsKEy7qb"
      },
      "execution_count": null,
      "outputs": []
    },
    {
      "cell_type": "markdown",
      "source": [
        "\n",
        "\n",
        "\n",
        "---\n",
        "\n",
        "**PREGUNTA 15.** Muestre el resultado obtenido.\n",
        "\n",
        "---\n",
        "\n",
        "\n",
        "\n",
        "---\n",
        "\n",
        "**PREGUNTA 16.** *Esta pregunta vale 5 puntos*\n",
        "\n",
        "Genere una gráfica como la de la figura siguiente. Suba el snippet que utilizó.\n",
        "\n",
        "---\n",
        "\n",
        "![](https://drive.google.com/uc?export=view&id=1L7ONQUcynwDY_ihs_KHV8lHpzV6QJfNC)\n",
        "\n",
        "\n",
        "\n",
        "1. El archivo con las elevaciones de Puebla es `Puebla_r15m.tif`. Cárguelo y genere un objeto raster. Los datos se obtuvieron de: https://www.inegi.org.mx/app/geo2/elevacionesmex/\n",
        "2. Grafíquelo con la función `plot()`.\n",
        "3. Haga un dataframe a partir del objeto raster con una agregación de 10\n",
        "4. En la práctica anterior generó el mapa con los Estados de México\n",
        "5. Grafique el dataframe con la elevación de Puebla junto con todo el mapa de México\n",
        "6. Ahora grafíquelo acotando a un rectángulo con coordenadas (-100,-96), (16,23) y ajuste la paleta de colores."
      ],
      "metadata": {
        "id": "KweUSnuj1J4N"
      }
    }
  ],
  "metadata": {
    "colab": {
      "provenance": []
    },
    "kernelspec": {
      "display_name": "R",
      "name": "ir"
    },
    "language_info": {
      "name": "R"
    }
  },
  "nbformat": 4,
  "nbformat_minor": 0
}