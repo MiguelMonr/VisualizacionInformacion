{
  "cells": [
    {
      "cell_type": "markdown",
      "source": [
        "## Práctica 7. Visualización de datos geoespaciales con Leaflet para R\n",
        "\n",
        "Con esta práctica se busca reforzar los conceptos y las principales funciones de Leaflet para manipular y desplegar datos geo-espaciales interactivos en R.\n",
        "\n",
        "Vamos a desplegar información sobre población y densidad de población por estado en la República Mexicana, con base en datos del Censo de Población y Vivienda 2020 de INEGI.\n",
        "\n",
        "### 1. Carga de las librerías necesarias\n"
      ],
      "metadata": {
        "id": "ERk4fg1WmKbb"
      }
    },
    {
      "cell_type": "code",
      "source": [
        "install.packages(\"sf\")"
      ],
      "metadata": {
        "colab": {
          "base_uri": "https://localhost:8080/"
        },
        "id": "tbyBc6eFGzNM",
        "outputId": "803ececd-093d-441d-e699-d697eace60ac"
      },
      "execution_count": null,
      "outputs": [
        {
          "output_type": "stream",
          "name": "stderr",
          "text": [
            "Installing package into ‘/usr/local/lib/R/site-library’\n",
            "(as ‘lib’ is unspecified)\n",
            "\n",
            "also installing the dependencies ‘proxy’, ‘e1071’, ‘wk’, ‘classInt’, ‘Rcpp’, ‘s2’, ‘units’\n",
            "\n",
            "\n"
          ]
        }
      ]
    },
    {
      "cell_type": "markdown",
      "source": [
        "### 2. Carga de los datos\n",
        "\n",
        "Los archivos que vamos a utilizar  se encuentran en Canvas y ya han sido depurados y limpiados. Generalmente no tenemos esa suerte. Una de las tareas principales de un científico de datos, es identificar las fuentes de datos, validarlas y depurarlas.\n",
        "\n",
        "El archivo `MapaMexico.geojson` contiene una cartografía con los polígonos de los estados del país.\n",
        "\n",
        "El archivo `estadosMx.csv` contiene información sobre los estados de la República Mexicana.\n",
        "\n",
        "Lea los archivos y asígnelos a variables apropiadas\n",
        "\n"
      ],
      "metadata": {
        "id": "AWOWDxtTHL81"
      }
    },
    {
      "cell_type": "code",
      "source": [
        "df1 <- read.csv(\"estadosMx.csv\")\n",
        "\n",
        "mxpolig <- st_read(\"MapaMexico.geojson\")"
      ],
      "metadata": {
        "id": "N2lwPUuxHNSE"
      },
      "execution_count": null,
      "outputs": []
    },
    {
      "cell_type": "markdown",
      "source": [
        "---\n",
        "**PREGUNTA 1** ¿Qué clase de objeto son df1 y mxpolig?\n",
        "¿Qué campos contiene un registro en mxpolig?\n",
        "\n",
        "---\n",
        "\n",
        "### 3. Nuestro primer mapa\n",
        "\n",
        "Ya tenemos lo necesario para desplegar nuestro primer mapa. Invocamos a leaflet pasando como argumento el mapa de los polígonos con el mapa base por omisión.  Para evitar que se despliegue todo el mapa mundi, especificamos las coordenadas y el acercamiento deseados con la función `setView()`."
      ],
      "metadata": {
        "id": "2lndswUhHQPl"
      }
    },
    {
      "cell_type": "code",
      "source": [
        "# 1. Veamos los estados con el mapa base\n",
        "# setView para acercar el mapa a Mx\n",
        "mp1 <- leaflet(mxpolig) %>%\n",
        "  addTiles()%>%\n",
        "  setView(lng=-99.2,lat=19.34,zoom=7)\n",
        "\n",
        "mp1\n"
      ],
      "metadata": {
        "id": "INaUQT18HX1E"
      },
      "execution_count": null,
      "outputs": []
    },
    {
      "cell_type": "code",
      "source": [
        "---\n",
        "  **PREGUNTA 2** Muestre las imágenes que obtiene haciendo un acercamiento con los valores 2 y 7.\n",
        "\n",
        "---\n",
        "\n",
        "### 4. Añadir marcadores\n",
        "\n",
        "Ahora vamos añadir marcadores a las capitales de los Estados; es información que se encuentra en nuestro otro dataset.\n",
        "Como esa información contiene coordenadas geográficas, ya no es necesario invocar la función `setView()`, pero si lo prefiere, puede utilizarla."
      ],
      "metadata": {
        "id": "kFjSinhrHgUU"
      },
      "execution_count": null,
      "outputs": []
    },
    {
      "cell_type": "code",
      "source": [
        "# 2. Añadimos marcadores. Como tienen coordenadas, podemos eliminar el setView\n",
        "\n",
        "mp2 <- leaflet(mxpolig) %>%\n",
        "  addTiles() %>%\n",
        "  addMarkers(data=df1)%>%\n",
        "  setView(lng=-99.2,lat=19.34,zoom=4.4)\n",
        "mp2\n"
      ],
      "metadata": {
        "id": "AlXAF_UaHslc"
      },
      "execution_count": null,
      "outputs": []
    },
    {
      "cell_type": "markdown",
      "source": [
        "\n",
        "\n",
        "### 5. Popups en los marcadores\n",
        "\n",
        "Recordemos que podemos hacer que al dar clic en un marcador (o en otro objeto), leaflet pueda desplegar cierta información. Estos son los popups. Vamos a crear unos que desplieguen el nombre del Estado y su población:"
      ],
      "metadata": {
        "id": "k8gRp0CMH1YN"
      }
    },
    {
      "cell_type": "code",
      "source": [
        "# 3. Añadimos mensajes popup a los marcadores\n",
        "mp2 <- mp2 %>%\n",
        "  addMarkers(data=df1,popup = paste0(\n",
        "    \"<strong>Nombre: </strong>\", df1$NOM_ENT, \"<br>\",\n",
        "    \"<strong>Población: </strong>\", df1$POB, \"<br>\"))\n",
        "mp2\n"
      ],
      "metadata": {
        "id": "4dlw_KhCH2g9"
      },
      "execution_count": null,
      "outputs": []
    },
    {
      "cell_type": "markdown",
      "source": [
        "---\n",
        "**PREGUNTA 3** ¿Para qué sirven las etiquetas `<strong>` y `<br>` en HTML?  \n",
        "Añada un tercer renglón con la densidad poblacional del Estado.\n",
        "De clic en algún estado para que se despliegue la información y haga una captura de pantalla.\n",
        "\n",
        "---\n",
        "\n",
        "\n",
        "\n",
        "### 6. Agrupamiento de marcadores\n",
        "\n",
        "Leaflet tiene una muy útil función para agrupar marcadores que se encuentran muy juntos y desplegar en su lugar un círculo con el número de marcadores agrupados:\n",
        "\n"
      ],
      "metadata": {
        "id": "vSqTmWDRH--B"
      }
    },
    {
      "cell_type": "code",
      "source": [
        "# 4. Agregamos agrupamiento de marcadores\n",
        "\n",
        "mp3 <- leaflet(mxpolig) %>%\n",
        "  addTiles() %>%\n",
        "  addMarkers(data=df1,popup = paste0(\n",
        "    \"<strong>Nombre: </strong>\", df1$NOM_ENT, \"<br>\",\n",
        "    \"<strong>Poblaci?n: </strong>\", df1$POB, \"<br>\"),\n",
        "    clusterOptions = markerClusterOptions())\n",
        "mp3\n"
      ],
      "metadata": {
        "id": "uCAXSxbmIBvB"
      },
      "execution_count": null,
      "outputs": []
    },
    {
      "cell_type": "markdown",
      "source": [
        "\n",
        "\n",
        "---\n",
        "\n",
        "**PREGUNTA 4** Haga un zoom en el que se muestren desagregados algunos de los clusters pero no todos. Haga una captura de pantalla.\n",
        "\n",
        "---\n",
        "\n",
        "\n",
        "\n",
        "### 7. Opciones para Mapa Base\n",
        "\n",
        "Como sabemos, con la función `addProviderTiles()` podemos elegir el mapa base sobre el que se desplegarán nuestras visualizaciones.  Lo interesante ahora, es que con la función `addLayerControls()` podemos seleccionar en el mapa interactivo qué mapa base deseamos desplegar\n",
        "\n"
      ],
      "metadata": {
        "id": "G_mpanZRIIOs"
      }
    },
    {
      "cell_type": "code",
      "source": [
        "# 5. Añadimos opciones para mapas base\n",
        "\n",
        "mp4 <- leaflet(mxpolig) %>%\n",
        "  addTiles(group=\"Mapa base 1\") %>%\n",
        "  addMarkers(data=df1,popup = paste0(\n",
        "    \"<strong>Nombre: </strong>\", df1$NOM_ENT, \"<br>\",\n",
        "    \"<strong>Población: </strong>\", df1$POB, \"<br>\"),\n",
        "    clusterOptions = markerClusterOptions()) %>%\n",
        "  addProviderTiles(providers$Stamen.Toner,group=\"Mapa base 2\")%>%\n",
        "  addProviderTiles(providers$Esri.NatGeoWorldMap,group=\"Mapa base 3\")%>%\n",
        "  addLayersControl(\n",
        "    baseGroups = c(\"Mapa base 1\", \"Mapa base 2\", \"Mapa base 3\"),\n",
        "    options=layersControlOptions(collapsed=F)\n",
        ")\n",
        "\n",
        "\n",
        "mp4\n"
      ],
      "metadata": {
        "id": "9ptq-YC4IJcV"
      },
      "execution_count": null,
      "outputs": []
    },
    {
      "cell_type": "markdown",
      "source": [
        "\n",
        "\n",
        "---\n",
        "\n",
        "**PREGUNTA 5** ¿Qué ocurre si declaramos `collapsed=TRUE` en el snippet anterior?\n",
        "\n",
        "Muestre (de preferencia en un solo renglón) capturas de pantalla con cada uno de los mapas base\n",
        "\n",
        "---\n",
        "\n",
        "\n",
        "\n",
        "### 8. Mapas de coropletas\n",
        "\n",
        "Leaflet tiene varias funciones que simplifican el mapeo de valores numéricos (o categóricos) a paletas de colores. Son las siguientes:\n",
        "\n",
        "* **colorNumeric:**  Datos continuos, paleta de colores continua\n",
        "\n",
        "* **colorBin**: Datos continuos, paleta de colores discreta\n",
        "\n",
        "* **colorQuantile**: Datos continuos, paleta de colores discreta, mismo número de observaciones para cada tonalidad\n",
        "\n",
        "* **colorFactor**: Datos categóricos\n",
        "\n",
        "  \n",
        "\n",
        "#### 8.1 Coropletas para población\n",
        "\n",
        "Vamos a utilizar `colorNumeric()` para colorear cada estado de acuerdo al tamaño de su población.  Empezamos por crear la paleta con tonalidades de azul e indicamos en la función `addPolygons()` que deseamos que el color de cada polígono corresponda a la paleta de acuerdo al campo que tiene los datos de población.\n",
        "\n",
        "Todos los demás argumentos son opciones con las que puede jugar.  Por ejemplo, con la opción `label` podemos hacer aparecer una etiqueta con la información que deseemos para cada polígono al pasar encima de él."
      ],
      "metadata": {
        "id": "jWDQg50XIRKu"
      }
    },
    {
      "cell_type": "code",
      "source": [
        "# 5. Mapas de coropletas\n",
        "\n",
        "# 5.1 Por No. habitantes con colorbin\n",
        "\n",
        "# Paleta de colores - continuo continuo\n",
        "palPob <- colorNumeric(\"Blues\",domain=df1$POB)\n",
        "\n",
        "mp5<-leaflet(mxpolig) %>%\n",
        "  addTiles() %>%\n",
        "  addMarkers(data=df1,popup = paste0(\n",
        "    \"<strong>Nombre: </strong>\", df1$NOM_ENT, \"<br>\",\n",
        "    \"<strong>Población: </strong>\", df1$POB, \"<br>\"),\n",
        "    clusterOptions = markerClusterOptions()) %>%\n",
        "  addPolygons(stroke = F,\n",
        "              smoothFactor = 0.2,\n",
        "              opacity=1.0,\n",
        "              fillOpacity = 0.5,\n",
        "              fillColor = ~palPob(df1$POB),\n",
        "              highlightOptions = highlightOptions(color=\"white\",\n",
        "                                                  weight=2,\n",
        "                                                  bringToFront = T),\n",
        "              label=df1$NOM_ENT,\n",
        "              labelOptions = labelOptions(direction = \"auto\"))%>%\n",
        "  addLegend(position=\"bottomleft\", pal=palPob, values = ~df1$POB,\n",
        "            title=\"Población\")\n",
        "\n",
        "\n",
        "mp5\n"
      ],
      "metadata": {
        "id": "NChh5-iRIUoF"
      },
      "execution_count": null,
      "outputs": []
    },
    {
      "cell_type": "markdown",
      "source": [
        "\n",
        "\n",
        "---\n",
        "\n",
        "**PREGUNTA 6** Muestre una captura de pantalla donde se observe la distinta tonalidad del Edo. de México, CDMX, Morelos y Puebla\n",
        "\n",
        "¿Cuál es la población de Jalisco y la de Colima? (Ayuda: Está en el Popup)\n",
        "\n",
        "---\n",
        "\n",
        "\n",
        "\n",
        "#### 8.2 Coropletas para densidad\n",
        "\n",
        "Podemos utilizar un código muy parecido para hacer un mapa de coropletas para la densidad poblacional.\n",
        "Vamos a probar con un número discreto de colores (6) en tonalidades de verde:"
      ],
      "metadata": {
        "id": "3ndCR5P8Ib6Y"
      }
    },
    {
      "cell_type": "code",
      "source": [
        "palDens <- colorBin(\"Greens\", domain = df1$DENS, 6, pretty = F)"
      ],
      "metadata": {
        "id": "AQ2Jcp-TIjbW"
      },
      "execution_count": null,
      "outputs": []
    },
    {
      "cell_type": "markdown",
      "source": [
        "\n",
        "\n",
        "El problema es que hay una enorme diversidad en las densidades poblacionales: De 10 a casi 6000 habitantes por kilómetro cuadrado.\n",
        "\n",
        "Una forma de resolver esto, es indicarle a R cómo queremos separar los bins. Después de un breve análisis de los datos, encontramos los puntos de corte para mantener 6 niveles.  Los cortes y el código son:"
      ],
      "metadata": {
        "id": "erbbA4cGImKE"
      }
    },
    {
      "cell_type": "code",
      "source": [
        "bins <- c(0, 20, 45, 79, 150, 390, 800, 7000)\n",
        "palDens <- colorBin(\"Greens\", domain = df1$DENS, bins=bins, pretty = F)"
      ],
      "metadata": {
        "id": "--lDGML4Iol3"
      },
      "execution_count": null,
      "outputs": []
    },
    {
      "cell_type": "markdown",
      "source": [
        "---\n",
        "**PREGUNTA 8** Modifique su código y muestre el mapa de coropletas resultante\n",
        "\n",
        "---\n",
        "\n",
        "\n",
        "\n",
        "#### 8.3  Juntando los dos mapas de coropletas\n",
        "\n",
        "Así como pudimos seleccionar a través de botones de radio (*radiobuttons*) qué mapa base utilizar, podemos elegir a través de botones de selección qué mapa de coropletas desplegar.  Suponiendo que al mapa de población se le asignó el grupo \"Por población\" y al de densidad el grupo \"Por densidad\", el código para activar el menú de selección es el siguiente:"
      ],
      "metadata": {
        "id": "eVBoQY2GIrAt"
      }
    },
    {
      "cell_type": "code",
      "source": [
        "addLayersControl(overlayGroups = c(\"Por Población\", \"Por Densidad\"))"
      ],
      "metadata": {
        "id": "28rM7r84IwVu"
      },
      "execution_count": null,
      "outputs": []
    },
    {
      "cell_type": "markdown",
      "source": [
        "\n",
        "\n",
        "---\n",
        "\n",
        "**PREGUNTA 9** Integre los dos mapas en un solo programa.  Muestre una captura con los dos mapas activados, sólo con el de población y sólo con densidad\n",
        "\n",
        "---\n",
        "\n",
        "\n",
        "\n",
        "### 9 Juntándolo todo\n",
        "\n",
        "---\n",
        "\n",
        "**PREGUNTA 10**  Muy bien, ahora agregue el código para que también pueda elegir cualquiera de los tres mapas base que hizo en la primera parte.\n",
        "\n",
        "Muestre las capturas de pantalla que considere convenientes para demostrar la funcionalidad de su código\n",
        "\n",
        "---\n",
        "\n"
      ],
      "metadata": {
        "id": "k2FPnxV-I6KD"
      }
    }
  ],
  "metadata": {
    "colab": {
      "provenance": []
    },
    "kernelspec": {
      "display_name": "R",
      "name": "ir"
    },
    "language_info": {
      "name": "R"
    }
  },
  "nbformat": 4,
  "nbformat_minor": 0
}