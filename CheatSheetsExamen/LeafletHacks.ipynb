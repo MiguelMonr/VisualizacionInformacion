{
 "cells": [
  {
   "cell_type": "markdown",
   "metadata": {},
   "source": [
    "## Cheatsheat para mapas con leaflet"
   ]
  },
  {
   "cell_type": "code",
   "execution_count": null,
   "metadata": {
    "vscode": {
     "languageId": "r"
    }
   },
   "outputs": [],
   "source": [
    "library(sf)\n",
    "library(leaflet)"
   ]
  },
  {
   "cell_type": "markdown",
   "metadata": {},
   "source": [
    "Para desplegar mapas"
   ]
  },
  {
   "cell_type": "code",
   "execution_count": null,
   "metadata": {
    "vscode": {
     "languageId": "r"
    }
   },
   "outputs": [],
   "source": [
    "mp1 <- leaflet(mxpolig) %>%\n",
    "    addTiles() %>%\n",
    "    setView(lng = -99.2, lat = 19.34, zoom = 7) # En setview establecemos donde queremos la vista inicial\n",
    "\n",
    "mp1"
   ]
  },
  {
   "cell_type": "markdown",
   "metadata": {},
   "source": [
    "Para añadir informacion adicional usando un dataframe auxiliar"
   ]
  },
  {
   "cell_type": "code",
   "execution_count": null,
   "metadata": {
    "vscode": {
     "languageId": "r"
    }
   },
   "outputs": [],
   "source": [
    "mp2 <- leaflet(mxpolig) %>%\n",
    "    addTiles() %>%\n",
    "    addMarkers(data = df1) %>%\n",
    "    setView(lng = -99.2, lat = 19.34, zoom = 4.4)\n",
    "mp2"
   ]
  },
  {
   "cell_type": "markdown",
   "metadata": {},
   "source": [
    "Si queremos añadir marcadores para mostrar informacion adicional utilizamos el metodo `addMarkers()` junto con `poup=paste0()`"
   ]
  },
  {
   "cell_type": "code",
   "execution_count": null,
   "metadata": {
    "vscode": {
     "languageId": "r"
    }
   },
   "outputs": [],
   "source": [
    "mp2 <- mp2 %>%\n",
    "    addMarkers(data = df1, popup = paste0( # para añadir markers primero indicas de donde los vas a sacar\n",
    "        \"<strong>Nombre: </strong>\", df1$NOM_ENT, \"<br>\", # Posteriormente indicas la columna de ese df\n",
    "        \"<strong>Población: </strong>\", df1$POB, \"<br>\"\n",
    "    ))\n",
    "mp2"
   ]
  },
  {
   "cell_type": "markdown",
   "metadata": {},
   "source": [
    "Si quieres marcar los clusters se usa `clusterOptions= markerClusterOptions()`"
   ]
  },
  {
   "cell_type": "code",
   "execution_count": null,
   "metadata": {
    "vscode": {
     "languageId": "r"
    }
   },
   "outputs": [],
   "source": [
    "mp3 <- leaflet(mxpolig) %>%\n",
    "    addTiles() %>%\n",
    "    addMarkers(\n",
    "        data = df1, popup = paste0(\n",
    "            \"<strong>Nombre: </strong>\", df1$NOM_ENT, \"<br>\",\n",
    "            \"<strong>Poblaci?n: </strong>\", df1$POB, \"<br>\"\n",
    "        ),\n",
    "        clusterOptions = markerClusterOptions()\n",
    "    ) # Esta opcion es por indicar los clusters\n",
    "mp3\n"
   ]
  },
  {
   "cell_type": "markdown",
   "metadata": {},
   "source": [
    "Para hacer mapas de coropletas:\n",
    "\n",
    "**NOTA:**\n",
    "Usamos el metodo `addPolygons()` ahí indicamos que columna tomar como base con `fillColor= ~colores(df$col)`"
   ]
  },
  {
   "cell_type": "code",
   "execution_count": null,
   "metadata": {
    "vscode": {
     "languageId": "r"
    }
   },
   "outputs": [],
   "source": [
    "alPob <- colorNumeric(\"Blues\", domain = df1$POB) # Elegimos el tipo de paleta que utilizaremos y de donde sacara los datos\n",
    "\n",
    "mp5 <- leaflet(mxpolig) %>%\n",
    "    addTiles() %>%\n",
    "    addMarkers(\n",
    "        data = df1, popup = paste0(\n",
    "            \"<strong>Nombre: </strong>\", df1$NOM_ENT, \"<br>\",\n",
    "            \"<strong>Población: </strong>\", df1$POB, \"<br>\"\n",
    "        ),\n",
    "        clusterOptions = markerClusterOptions()\n",
    "    ) %>%\n",
    "    addPolygons(\n",
    "        stroke = F, # En addPolygons indicaps como se van a colorear los poligonos\n",
    "        smoothFactor = 0.2,\n",
    "        opacity = 1.0,\n",
    "        fillOpacity = 0.5,\n",
    "        fillColor = ~ palPob(df1$POB),\n",
    "        highlightOptions = highlightOptions(\n",
    "            color = \"white\",\n",
    "            weight = 2,\n",
    "            bringToFront = T\n",
    "        ),\n",
    "        label = df1$NOM_ENT,\n",
    "        labelOptions = labelOptions(direction = \"auto\")\n",
    "    ) %>%\n",
    "    addLegend(\n",
    "        position = \"bottomleft\", pal = palPob, values = ~ df1$POB,\n",
    "        title = \"Población\"\n",
    "    )\n",
    "\n",
    "\n",
    "mp5\n"
   ]
  },
  {
   "cell_type": "markdown",
   "metadata": {},
   "source": [
    "## **IMPORTANTE**\n",
    "Si los datos son bastante grandes para la escala conviene primero definir los limites del intervalo y con esos limites establecer el mapa. \n",
    "\n",
    "Para eso utilizas el siguiente metodo:\n",
    "1. `bins <- c(0, 20, 45, 79, 150, 390, 800, 7000) ` para indicar los limites \n",
    "2. `palDens <- colorBin(\"Greens\", domain = df1$DENS, bins=bins, pretty = F)` Escala de color junto con los limites de corte"
   ]
  },
  {
   "cell_type": "code",
   "execution_count": null,
   "metadata": {
    "vscode": {
     "languageId": "r"
    }
   },
   "outputs": [],
   "source": [
    "mp6 <- leaflet(mxpolig) %>%\n",
    "    addTiles() %>%\n",
    "    addMarkers(\n",
    "        data = df1, popup = paste0(\n",
    "            \"<strong>Nombre: </strong>\", df1$NOM_ENT, \"<br>\",\n",
    "            \"<strong>Población: </strong>\", df1$POB, \"<br>\"\n",
    "        ),\n",
    "        clusterOptions = markerClusterOptions()\n",
    "    ) %>%\n",
    "    addPolygons(\n",
    "        stroke = F, # En addPolygons indicaps como se van a colorear los poligonos\n",
    "        smoothFactor = 0.2,\n",
    "        opacity = 1.0,\n",
    "        fillOpacity = 0.5,\n",
    "        fillColor = ~ palDens(df1$DENS),\n",
    "        highlightOptions = highlightOptions(\n",
    "            color = \"white\",\n",
    "            weight = 2,\n",
    "            bringToFront = T\n",
    "        ),\n",
    "        label = df1$NOM_ENT,\n",
    "        labelOptions = labelOptions(direction = \"auto\")\n",
    "    ) %>%\n",
    "    addLegend(\n",
    "        position = \"bottomleft\", pal = palDens, values = ~ df1$DENS,\n",
    "        title = \"Población\"\n",
    "    )\n",
    "\n",
    "\n",
    "mp6"
   ]
  },
  {
   "cell_type": "markdown",
   "metadata": {},
   "source": [
    "## **Para unir varios Mapas**\n",
    "\n",
    "1. Se establece `addPolygons()`con los parametros a colorear del mapa\n",
    "2. Establecemos `addLegend()`para mostrar la leyenda de colores\n",
    "3. Vuelves a repetir para el segundo mapa\n",
    "4. Establecemos los marcadores `addMarkers()` (opcional)\n",
    "5. Configuramos los botones con `addLayersControl()` para el nombre de cada boton usamos el parametro `overlayGroups()`"
   ]
  },
  {
   "cell_type": "code",
   "execution_count": null,
   "metadata": {
    "vscode": {
     "languageId": "r"
    }
   },
   "outputs": [],
   "source": [
    "mp10 <- leaflet(mxpolig) %>%\n",
    "    addTiles() %>%\n",
    "    addPolygons(\n",
    "        stroke = F, smoothFactor = 0.2, opacity = 1.0,\n",
    "        fillOpacity = 0.5, fillColor = ~ palPob(df1$POB),\n",
    "        highlightOptions = highlightOptions(\n",
    "            color = \"white\",\n",
    "            weight = 2,\n",
    "            bringToFront = T\n",
    "        ),\n",
    "        label = df1$NOM_ENT, labelOptions = labelOptions(direction = \"auto\"),\n",
    "        group = \"Por Población\"\n",
    "    ) %>%\n",
    "    addLegend(\n",
    "        position = \"bottomleft\", pal = palPob, values = ~ df1$POB,\n",
    "        title = \"Población\", group = \"Por Población\"\n",
    "    ) %>%\n",
    "    addPolygons(\n",
    "        stroke = F, smoothFactor = 0.2, opacity = 1.0,\n",
    "        fillOpacity = 0.5, fillColor = ~ palDens(df1$DENS),\n",
    "        highlightOptions = highlightOptions(\n",
    "            color = \"white\",\n",
    "            weight = 2,\n",
    "            bringToFront = T\n",
    "        ),\n",
    "        label = df1$NOM_ENT, labelOptions = labelOptions(direction = \"auto\"),\n",
    "        group = \"Por Densidad\"\n",
    "    ) %>%\n",
    "    addLegend(\n",
    "        position = \"bottomleft\", pal = palDens, values = ~ df1$DENS,\n",
    "        labFormat = labelFormat(digits = 0), group = \"Por Densidad\",\n",
    "        title = \"Densidad\"\n",
    "    ) %>%\n",
    "    addMarkers(\n",
    "        data = df1, popup = paste0(\n",
    "            \"<strong>Nombre: </strong>\", df1$NOM_ENT, \"<br>\",\n",
    "            \"<strong>Población: </strong>\", df1$POB, \"<br>\",\n",
    "            \"<strong>Densidad Poblacional: </strong>\", df1$DENS, \"<br>\"\n",
    "        ),\n",
    "        clusterOptions = markerClusterOptions()\n",
    "    ) %>%\n",
    "    addProviderTiles(providers$CartoDB.Positron, group = \"Mapa base 2\") %>%\n",
    "    addProviderTiles(providers$Esri.NatGeoWorldMap, group = \"Mapa base 3\") %>%\n",
    "    addLayersControl(\n",
    "        baseGroups = c(\"Mapa base 1\", \"Mapa base 2\", \"Mapa base 3\"),\n",
    "        overlayGroups = c(\"Por Población\", \"Por Densidad\"),\n",
    "        options = layersControlOptions(collapsed = F)\n",
    "    )\n",
    "\n",
    "mp10"
   ]
  }
 ],
 "metadata": {
  "kernelspec": {
   "display_name": "R",
   "language": "R",
   "name": "ir"
  },
  "language_info": {
   "name": "R"
  }
 },
 "nbformat": 4,
 "nbformat_minor": 2
}
