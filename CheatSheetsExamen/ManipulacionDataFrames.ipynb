{
 "cells": [
  {
   "cell_type": "markdown",
   "metadata": {},
   "source": [
    "En algunos ejercicios se te pedira manipular el dataframe antes de trabajarlo. Este notebook ofrece una guia rapida de como manipularlos junto con algunos de los metodos más comunes. Para más metodos se recomienda leer la documentacion de la biblioteca dplyr"
   ]
  },
  {
   "cell_type": "markdown",
   "metadata": {},
   "source": [
    "## Bibiloteca que se usa: \n"
   ]
  },
  {
   "cell_type": "code",
   "execution_count": null,
   "metadata": {
    "vscode": {
     "languageId": "r"
    }
   },
   "outputs": [],
   "source": [
    "library(dplyr)"
   ]
  },
  {
   "cell_type": "markdown",
   "metadata": {},
   "source": [
    "Ejemplo de manipulacion"
   ]
  },
  {
   "cell_type": "code",
   "execution_count": null,
   "metadata": {
    "vscode": {
     "languageId": "r"
    }
   },
   "outputs": [],
   "source": [
    "df1<-df %>% group_by(Anio,Trimestre) %>% summarise(VentasTrim=sum(\n",
    "NumVentas))\n",
    "\n",
    "df1$’A-Trim’ <- paste0(df1$Anio,’-’,df1$Trimestre)"
   ]
  },
  {
   "cell_type": "markdown",
   "metadata": {},
   "source": [
    "**Aclaraciones:** Para agregar columnas\n",
    "-   `df$´nombre_de_columna´` Para acceder a una columna en especifico\n",
    "- `paste0(df1$Anio,’-’,df1$Trimestre)` "
   ]
  },
  {
   "cell_type": "code",
   "execution_count": null,
   "metadata": {
    "vscode": {
     "languageId": "r"
    }
   },
   "outputs": [],
   "source": [
    "df1$’A-Trim’ <- paste0(df1$Anio,’-’,df1$Trimestre)"
   ]
  },
  {
   "cell_type": "markdown",
   "metadata": {},
   "source": [
    "# Metodos importantes: \n",
    "- `trimws()` Para quitar espacios en blanco\n",
    "- `filter(nombreColumna = valor)`Para filtrar elementos de una columna\n",
    "- `setwd()` Este sirve para establecer la ruta en la que estamos trabajando\n",
    "-  `getwd()` Este sirve para ver la ruta en la que estamos. Similar al pwd de la terminad\n",
    "- `nombre_dataFrame <- read.csv(Nombre o ruta del archivo)`  Metodo para leer un csv en la terminal "
   ]
  },
  {
   "cell_type": "markdown",
   "metadata": {},
   "source": [
    "## Ejemplo de uso de getwd() y setwd()"
   ]
  },
  {
   "cell_type": "code",
   "execution_count": null,
   "metadata": {
    "vscode": {
     "languageId": "r"
    }
   },
   "outputs": [
    {
     "data": {
      "text/html": [
       "'/Users/miguelmonreal/Desktop/Semestres/Primavera2024/VisualizacionInformacion/CheatSheetsExamen'"
      ],
      "text/latex": [
       "'/Users/miguelmonreal/Desktop/Semestres/Primavera2024/VisualizacionInformacion/CheatSheetsExamen'"
      ],
      "text/markdown": [
       "'/Users/miguelmonreal/Desktop/Semestres/Primavera2024/VisualizacionInformacion/CheatSheetsExamen'"
      ],
      "text/plain": [
       "[1] \"/Users/miguelmonreal/Desktop/Semestres/Primavera2024/VisualizacionInformacion/CheatSheetsExamen\""
      ]
     },
     "metadata": {},
     "output_type": "display_data"
    }
   ],
   "source": [
    "getwd() #Para saber en que directorio estas trabajando"
   ]
  },
  {
   "cell_type": "code",
   "execution_count": null,
   "metadata": {
    "vscode": {
     "languageId": "r"
    }
   },
   "outputs": [],
   "source": [
    "setwd(\"Pones la ruta donde quieres trabajar\") #Para cambiar el directorio de trabajo    "
   ]
  }
 ],
 "metadata": {
  "kernelspec": {
   "display_name": "R",
   "language": "R",
   "name": "ir"
  },
  "language_info": {
   "codemirror_mode": "r",
   "file_extension": ".r",
   "mimetype": "text/x-r-source",
   "name": "R",
   "pygments_lexer": "r",
   "version": "4.4.1"
  }
 },
 "nbformat": 4,
 "nbformat_minor": 2
}
