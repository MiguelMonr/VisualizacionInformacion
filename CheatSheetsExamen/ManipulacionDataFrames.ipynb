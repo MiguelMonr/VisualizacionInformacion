{
 "cells": [
  {
   "cell_type": "markdown",
   "metadata": {},
   "source": [
    "## Bibiloteca que se usa: \n"
   ]
  },
  {
   "cell_type": "code",
   "execution_count": null,
   "metadata": {
    "vscode": {
     "languageId": "r"
    }
   },
   "outputs": [],
   "source": [
    "library(dplyr)"
   ]
  },
  {
   "cell_type": "markdown",
   "metadata": {},
   "source": [
    "Ejemplo de manipulacion"
   ]
  },
  {
   "cell_type": "code",
   "execution_count": null,
   "metadata": {
    "vscode": {
     "languageId": "r"
    }
   },
   "outputs": [],
   "source": [
    "df1<-df %>% group_by(Anio,Trimestre) %>% summarise(VentasTrim=sum(\n",
    "NumVentas))\n",
    "\n",
    "df1$’A-Trim’ <- paste0(df1$Anio,’-’,df1$Trimestre)"
   ]
  },
  {
   "cell_type": "markdown",
   "metadata": {},
   "source": [
    "**Aclaraciones:** Para agregar columnas\n",
    "-   `df$´nombre_de_columna´` Para acceder a una columna en especifico\n",
    "- `paste0(df1$Anio,’-’,df1$Trimestre)` "
   ]
  },
  {
   "cell_type": "code",
   "execution_count": null,
   "metadata": {
    "vscode": {
     "languageId": "r"
    }
   },
   "outputs": [],
   "source": [
    "df1$’A-Trim’ <- paste0(df1$Anio,’-’,df1$Trimestre)"
   ]
  },
  {
   "cell_type": "markdown",
   "metadata": {},
   "source": [
    "# Metodos importantes: \n",
    "- `rimws()` Para quitar espacios en blanco\n",
    "- `filter(nombreColumna = valor)`Para filtrar elementos de una columna"
   ]
  }
 ],
 "metadata": {
  "kernelspec": {
   "display_name": "R",
   "language": "R",
   "name": "ir"
  },
  "language_info": {
   "name": "R"
  }
 },
 "nbformat": 4,
 "nbformat_minor": 2
}
