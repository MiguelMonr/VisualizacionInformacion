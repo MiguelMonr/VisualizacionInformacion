{
  "cells": [
    {
      "cell_type": "markdown",
      "metadata": {
        "id": "U0vHlXg2YqHk"
      },
      "source": [
        "## Práctica 4. Introducción a la visualizaciones de redes de vínculos en R\n",
        "\n",
        "\n",
        "## Introducción\n",
        "\n",
        "En la práctica anterior vimos cómo visualizar grafos y analizar redes.  En esta ocasión aprenderemos a utilizar algunas librerías de R que se integran a ggplot. También aprenderemos a desplegar redes jerárquicas en R.\n",
        "\n",
        "\n",
        "### Entregables\n",
        "\n",
        "La práctica se hace por equipos. Se entrega un documento con:\n",
        "\n",
        "* Todas las preguntas solicitadas en este documento;\n",
        "\n",
        "* Todas las capturas de grafos solicitadas;\n",
        "\n",
        "* El código de los scripts generados\n",
        "\n",
        "  \n",
        "\n",
        "## I. Visualización de grafos con Ggraph\n",
        "\n",
        "ggraph es una extensión de `ggplot2` para graficar estructuras de datos relacionales tales como redes, grafos y árboles. Si bien sigue las ideas de base de `ggplot2` y su API, integra su propio conjunto de geoms, facets, etc. y añade el concepto de *planos o diseños* (*layouts*) a la gramática de `ggplot2`.\n",
        "\n",
        "Utiliza varias de las funciones de `igraph`, un poderoso paquete de R para análisis de grafos. Proporciona una amplia gama de herramientas para la manipulación y el  análisis de datos de redes, como cálculos de centralidad, detección de  comunidades, búsqueda de caminos más cortos, entre otros.\n",
        "\n",
        "\n",
        "\n",
        "#### 1. Preparación de datos\n",
        "\n",
        "1. Como en la práctica anterior, abra un nuevo proyecto en Gephi y abra el archivo `LadaFacebookAnon.gdf`.\n",
        "2. Desde el Laboratorio de datos, exporte la tabla de Nodos como un archivo csv con el nombre `NodosLadaFB.csv` y la tabla de Aristas en un archivo con el nombre `OrillasLadaFB.csv`. **Debe seleccionar la tabla correspondiente en el menú de opciones**.\n",
        "\n",
        "\n",
        "\n",
        "#### 2. Carga y visualización de las orillas\n",
        "\n",
        "1. Abra RStudio y asegúrese que los archivos que descargó en el punto anterior, están en el directorio activo de RStudio.\n",
        "2. Lea el archivo `OrillasLadaFB.csv`  y guárdelo en un dataframe `orillas`.  De una vez cargue las librerías que necesitará más adelante:\n"
      ]
    },
    {
      "cell_type": "code",
      "execution_count": null,
      "metadata": {
        "id": "tzuHYZDomST3"
      },
      "outputs": [],
      "source": [
        "install.packages('igraph',dependencies = TRUE)\n",
        "install.packages('ggraph',dependencies = TRUE)"
      ]
    },
    {
      "cell_type": "code",
      "source": [
        "library(ggraph)\n",
        "library(igraph)\n",
        "orillas <- read.csv(\"OrillasLadaFB.csv\",header=T)"
      ],
      "metadata": {
        "id": "2C_owelOV640"
      },
      "execution_count": null,
      "outputs": []
    },
    {
      "cell_type": "markdown",
      "metadata": {
        "id": "eJre9NpeZoM5"
      },
      "source": [
        "Creamos un objeto grafo a partir del dataframe  y lo graficamos con los valores por omisión:"
      ]
    },
    {
      "cell_type": "code",
      "execution_count": null,
      "metadata": {
        "id": "VO0IAijkaN6d"
      },
      "outputs": [],
      "source": [
        "g <- graph_from_data_frame(orillas)\n",
        "\n",
        "ggraph(g) + geom_node_point() +\n",
        "  geom_edge_link()"
      ]
    },
    {
      "cell_type": "markdown",
      "metadata": {
        "id": "jpI5pczUgvEO"
      },
      "source": [
        "![](https://drive.google.com/uc?export=view&id=1dlWTuvaS8y9MQDDJAxscdEoY-488103-)\n",
        "\n",
        "La gráfica resultante, como las primeras en Gephi, es bastante inútil, excepto quizás que en esta ocasión vemos con más claridad los nodos que están más alejados y relativamente aislados.\n",
        "\n",
        "---\n",
        "\n",
        "**PREGUNTA 1.** ¿Por qué se despliegan nodos si estamos trabajando con un archivo de aristas?\n",
        "\n",
        "---\n",
        "\n",
        "\n",
        "\n",
        "ggraph tiene una gran cantidad de opciones para desplegar los grafos. Una, basada en algoritmos de fuerza dirigida, es `kk`.  Vamos a utilizarlo y además cambiemos el color de los nodos y de las aristas:"
      ]
    },
    {
      "cell_type": "code",
      "source": [
        "ggraph(g, layout='kk') + geom_node_point(color='blue') +\n",
        "  geom_edge_link(color='steelblue')"
      ],
      "metadata": {
        "id": "T-cJ_K_MYfsn"
      },
      "execution_count": null,
      "outputs": []
    },
    {
      "cell_type": "markdown",
      "source": [
        "\n",
        "\n",
        "---\n",
        "\n",
        "**PREGUNTA 2.** Muestre la gráfica resultante\n",
        "\n",
        "---\n",
        "\n",
        "\n",
        "\n",
        "Para la mayoría de los planos se pueden especificar opciones. Veamos un ejemplo:"
      ],
      "metadata": {
        "id": "uUtgn_GzYiap"
      }
    },
    {
      "cell_type": "code",
      "source": [
        "ggraph(g, layout='kk',maxiter=100) + geom_node_point(color='blue') +\n",
        "  geom_edge_link(color='steelblue')"
      ],
      "metadata": {
        "id": "86rHWOt2Ylh4"
      },
      "execution_count": null,
      "outputs": []
    },
    {
      "cell_type": "markdown",
      "source": [
        "\n",
        "\n",
        "---\n",
        "\n",
        "**PREGUNTA 3**. Muestre la gráfica resultante\n",
        "\n",
        "---\n",
        "\n",
        "\n",
        "\n",
        "---\n",
        "\n",
        "**PREGUNTA 4**. Cambie maxiter a 750 y muestre la gráfica resultante\n",
        "\n",
        "---\n",
        "\n",
        "\n",
        "\n",
        "El archivo de aristas no tiene mucha información de valor. Carguemos también el archivo de nodos y creemos un grafo a partir de los dos.  Ahora podemos asignar un canal visual a una variable categórica, por ejemplo, distinguir el género en función de la tonalidad:"
      ],
      "metadata": {
        "id": "q0HCJqHrYoGw"
      }
    },
    {
      "cell_type": "code",
      "source": [
        "nodos <- read.csv(\"NodosLadaFB.csv\",header=T)\n",
        "g <- graph_from_data_frame(d=orillas,v=nodos)\n",
        "\n",
        "ggraph(g,layout='kk') + geom_node_point(aes(color=sex),size=3) +\n",
        "  geom_edge_link(width = .2, color = 'steelblue')\n"
      ],
      "metadata": {
        "id": "B0oJAhwPYp9g"
      },
      "execution_count": null,
      "outputs": []
    },
    {
      "cell_type": "markdown",
      "source": [
        "\n",
        "\n",
        "---\n",
        "\n",
        "**PREGUNTA 5.** Muestre la gráfica resultante\n",
        "\n",
        "\n",
        "\n",
        "**PREGUNTA 6.** Ahora distinga por el origen de la relación con el canal visual de tonalidad y el género por el tamaño del punto.  Para que las líneas no obstruyan a los nodos, grafique primero las líneas. Muestre la gráfica resultante.\n",
        "\n",
        "---\n",
        "\n",
        "\n",
        "\n",
        "#### 3. Cálculo de estadísticas\n",
        "\n",
        "Vamos a utilizar algunas de las funciones de igraph para calcular estadísticas sobre nuestro grafo. Empecemos por calcular el grado de los nodos y asignarlo como un nuevo atributo:"
      ],
      "metadata": {
        "id": "X5MQReeeYsVv"
      }
    },
    {
      "cell_type": "code",
      "source": [
        "V(g)$grado=degree(g)\n",
        "summary(g)"
      ],
      "metadata": {
        "id": "gIESEcywYvIz"
      },
      "execution_count": null,
      "outputs": []
    },
    {
      "cell_type": "markdown",
      "source": [
        "**PREGUNTA 7.** Interprete el resultado del último comando y verifique que, en efecto, se tiene un nuevo atributo \"grado\".\n",
        "\n",
        "---\n",
        "\n",
        "\n",
        "\n",
        "---\n",
        "\n",
        "**PREGUNTA 8.** Despliegue una gráfica en la que el diámetro del punto se asocia al grado del nodo y la tonalidad al origen.  \n",
        "\n",
        "---\n",
        "\n",
        "\n",
        "\n",
        "---\n",
        "\n",
        "**PREGUNTA 9.** ¿Cuál es el nodo con el mayor grado? ¿Cuál es ese grado?   (Ayuda: El máximo grado se obtiene con `max(degree(g))`\n",
        "\n",
        "---\n",
        "\n",
        "\n",
        "\n",
        "Veamos la distribución de grados:"
      ],
      "metadata": {
        "id": "bkLs8t0aYxNh"
      }
    },
    {
      "cell_type": "code",
      "source": [
        "ggplot()+geom_histogram(aes(V(g)$grado))+theme_classic()"
      ],
      "metadata": {
        "id": "R745Cq6yY16y"
      },
      "execution_count": null,
      "outputs": []
    },
    {
      "cell_type": "markdown",
      "source": [
        "\n",
        "\n",
        "---\n",
        "\n",
        "**PREGUNTA 10.** Compare esta distribución con la que obtuvo con Gephi.  También compare el grado medio\n",
        "\n",
        "Si encuentra diferencias, ¿a qué cree que se deba?\n",
        "\n",
        "---\n",
        "\n",
        "\n",
        "\n",
        "La intermediación (''betweenness'') de los nodos se calcula con la funcion `betweenness`.  \n",
        "\n",
        "---\n",
        "\n",
        "**PREGUNTA 11.** Calcule la intermediación del grafo y despliegue un histograma.\n",
        "También despliegue un grafo en el que el tamaño del nodo es proporcional a su intermediación\n",
        "\n",
        "¿Cuál es el nodo con la máxima intermediación?\n",
        "\n",
        "----\n",
        "\n",
        "\n",
        "\n",
        "\n",
        "Para no quedarnos con una idea pobre de ggraph, tomaremos los datasets `schoolNodes.csv` y `schoolEdges.csv` que tiene información anonimizada de una escuela danesa.\n",
        "\n",
        "1. Lea los dos archivos y genere una gráfica con ellos.\n",
        "2. Resaltemos el uso de alcohol en la escuela:\n",
        "\n"
      ],
      "metadata": {
        "id": "6yjOuUOwY4JK"
      }
    },
    {
      "cell_type": "code",
      "source": [
        "ggraph(g,layout = 'stress') +\n",
        "  geom_edge_fan(width = .5, color = 'gray') +\n",
        "  geom_node_point(aes(color=alcohol_use), size = 3) +\n",
        "  scale_color_viridis()"
      ],
      "metadata": {
        "id": "jCcPTLujY7cY"
      },
      "execution_count": null,
      "outputs": []
    },
    {
      "cell_type": "markdown",
      "source": [
        "\n",
        "\n",
        "---\n",
        "\n",
        "**PREGUNTA 12.** Muestre la gráfica resultante\n",
        "\n",
        "---\n",
        "\n",
        "\n",
        "\n",
        "Ahora ejecute el siguiente código:"
      ],
      "metadata": {
        "id": "jzUmASrJY-P7"
      }
    },
    {
      "cell_type": "code",
      "source": [
        "ggraph(g,layout = 'stress') +\n",
        "  geom_edge_fan(aes(color=type), width = .5) +\n",
        "  geom_node_point(aes(color=alcohol_use, size = delinquency)) +\n",
        "  scale_color_viridis() +\n",
        "  scale_edge_color_manual(values = c('friendship' = '#ceb888', 'primary_school' = 'gray'))"
      ],
      "metadata": {
        "id": "QjoAEM5mY_sZ"
      },
      "execution_count": null,
      "outputs": []
    },
    {
      "cell_type": "markdown",
      "source": [
        "\n",
        "\n",
        "---\n",
        "\n",
        "**PREGUNTA 13.** Explique muy brevemente qué hace el código y muestre la gráfica resultante.\n",
        "\n",
        "¿Qué opinión le merece esta gráfica en cuanto a la claridad y eficiencia para comunicar información?\n",
        "\n",
        "---\n",
        "\n",
        "\n",
        "\n",
        "## II. Visualizaciones de relaciones jerárquicas\n",
        "\n",
        "Además de los grafos, ggraph ofrece diseños para desplegar redes de vínculos como árboles, mapas rectangulares y circulares. Estas visualizaciones pueden mostrar relaciones estrictamente jerárquicas, o de agrupamientos.\n",
        "\n",
        "\n",
        "\n",
        "### Relaciones estrictamente jerárquicas\n",
        "\n",
        "En el siguiente segmento de código se muestra el desplegado con un dendrograma de un organigrama de una institución."
      ],
      "metadata": {
        "id": "5_qNd57fZBp3"
      }
    },
    {
      "cell_type": "code",
      "source": [
        "# Crea lista de orillas a partir de la estructura jerárquica\n",
        "d1 <- data.frame(from=\"Vicerrector\", to=c(\"Ante Salcedo\", \"Fer Esponda\", \"Francisco Perez\"))\n",
        "d2 <- data.frame(from=rep(d1$to, each=3), to=c(\"J. Guadalupe\",\"Mónica\",\"Enrique\", \"Octavio\",\"Eva\",\"Pepe\",\"Ceci\",\"Luis\",\"Renata\"))\n",
        "\n",
        "orillas <-rbind(d1,d2)\n",
        "\n",
        "# Crea el objeto\n",
        "g <- graph_from_data_frame(orillas)\n",
        "\n",
        "#... y lo desplegamos\n",
        "ggraph(g,'dendrogram')+\n",
        "  geom_edge_diagonal()+\n",
        "  geom_node_point()+\n",
        "  geom_node_text(aes( label=name)) +\n",
        "  theme_void()"
      ],
      "metadata": {
        "id": "JGKiRjx1ZD0z"
      },
      "execution_count": null,
      "outputs": []
    },
    {
      "cell_type": "markdown",
      "source": [
        "\n",
        "\n",
        "---\n",
        "\n",
        "**PREGUNTA 14.** Muestre la gráfica resultante\n",
        "\n",
        "---\n",
        "\n",
        "\n",
        "\n",
        "Este es el código para hacer una gráfica circular:"
      ],
      "metadata": {
        "id": "c5hHAkRVZHLR"
      }
    },
    {
      "cell_type": "code",
      "source": [
        "ggraph(g2, layout = 'linear',circular=T) +\n",
        "  geom_node_point()+\n",
        "  geom_node_text(aes( label=name)) +\n",
        "  geom_edge_arc()+\n",
        "  theme_void()"
      ],
      "metadata": {
        "id": "KrzwMTemZJO4"
      },
      "execution_count": null,
      "outputs": []
    },
    {
      "cell_type": "markdown",
      "source": [
        "**PREGUNTA 15.** Muestre la gráfica resultante\n",
        "\n",
        "---\n",
        "\n",
        "---\n",
        "\n",
        "**PREGUNTA 16.** Muestre la gráfica resultante al añadir al código de dendrograma, el parámetro `circular=TRUE`.\n",
        "\n",
        "---\n",
        "\n",
        "\n",
        "\n",
        ".... y éste, el código para una gráfica icicle:"
      ],
      "metadata": {
        "id": "BOs45CujZLfI"
      }
    },
    {
      "cell_type": "code",
      "source": [
        "ggraph(g2,'partition')+\n",
        "  geom_node_tile(aes(fill=depth), size=0.25) +\n",
        "  geom_node_text(aes( label=name)) +\n",
        "  theme_void()"
      ],
      "metadata": {
        "id": "OGuCPw5gZWQB"
      },
      "execution_count": null,
      "outputs": []
    },
    {
      "cell_type": "markdown",
      "source": [
        "\n",
        "\n",
        "---\n",
        "\n",
        "**PREGUNTA 17.** Modifique el código para que la gráfica aparezca un poco más elegante.\n",
        "\n",
        "Muestre la gráfica resultante\n",
        "\n",
        "---\n",
        "\n",
        "\n",
        "\n",
        "---\n",
        "\n",
        "**PREGUNTA 18.** Haga una gráfica de árbol, circular y icicle donde aparezcan dos países de América Central, cada uno con tres Estados y cada Estado con tres Municipios.\n",
        "\n",
        "---\n",
        "\n",
        "\n",
        "\n",
        "#### Agrupamientos\n",
        "\n",
        "R cuenta con un amplio repertorio de librerías para desplegar visualizaciones relacionadas con agrupamientos (y mostrar las partes de un todo) jerárquicos.\n",
        "\n",
        "---\n",
        "\n",
        "**PREGUNTA 19.** Muestre las gráficas de contención de las notas, en las que se despliegan GDP y HDI para los países que integran el G20.  Despliegue únicamente el GDP (en proporción del área) y utilice la tonalidad para distinguir entre regiones\n",
        "\n",
        "---\n",
        "\n",
        "El archivo `VentasHibridos.csv` contiene las ventas de vehículos híbridos en la República Mexicana en 2021 y un mapa de árbol de las ventas es el siguiente:\n",
        "\n",
        "\n",
        "![](https://drive.google.com/uc?export=view&id=19HWbNMMWCTE8esJr-hZeBelsprfo3djl)\n",
        "\n",
        "\n",
        "---\n",
        "\n",
        "**PREGUNTA 20.** Haga lo necesario para crear un mapa de árbol como el anterior.  Tome en cuenta que:\n",
        "\n",
        "* Utilice una paleta de colores con tonalidades verdes (estamos hablando de autos híbridos). Ayuda: Considere la función `scale_fill_distiller()`\n",
        "* Los números en la columna de ventas, tienen comas para separar los miles, por lo que tendrá que hacer una pequeña manipulación de los datos antes de graficar\n",
        "\n",
        "---\n",
        "\n"
      ],
      "metadata": {
        "id": "JBfyEb8qZZTi"
      }
    }
  ],
  "metadata": {
    "colab": {
      "provenance": []
    },
    "kernelspec": {
      "display_name": "R",
      "name": "ir"
    },
    "language_info": {
      "name": "R"
    }
  },
  "nbformat": 4,
  "nbformat_minor": 0
}